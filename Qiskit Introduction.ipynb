{
 "cells": [
  {
   "cell_type": "markdown",
   "id": "08fde36f",
   "metadata": {},
   "source": [
    "# INTRODUCTION TO QISKIT\n",
    "\n",
    "**By Yash Prabhat**"
   ]
  },
  {
   "cell_type": "markdown",
   "id": "94f1b4e5",
   "metadata": {},
   "source": [
    "We start by importing the required basic libraires"
   ]
  },
  {
   "cell_type": "code",
   "execution_count": 31,
   "id": "3438565e",
   "metadata": {},
   "outputs": [],
   "source": [
    "import numpy as np\n",
    "from qiskit import *\n"
   ]
  },
  {
   "cell_type": "markdown",
   "id": "7b0ad811",
   "metadata": {},
   "source": [
    "Defining Quantum Circuit using 2 qubits"
   ]
  },
  {
   "cell_type": "code",
   "execution_count": 2,
   "id": "211da3ec",
   "metadata": {},
   "outputs": [],
   "source": [
    "qc= QuantumCircuit(2) #2 creates 2 Quantum Register and 2 Classical Register"
   ]
  },
  {
   "cell_type": "markdown",
   "id": "516095ac",
   "metadata": {},
   "source": [
    "We plan to create Bell State. That is  1/sqrt(2) (|0>+|1>)\n",
    "\n",
    "Thus we need to add a Hadamard Gate to 1st qubit and CNOT to second with first as control"
   ]
  },
  {
   "cell_type": "code",
   "execution_count": 3,
   "id": "49cc09f1",
   "metadata": {},
   "outputs": [
    {
     "data": {
      "text/plain": [
       "<qiskit.circuit.instructionset.InstructionSet at 0x18df4ab8b00>"
      ]
     },
     "execution_count": 3,
     "metadata": {},
     "output_type": "execute_result"
    }
   ],
   "source": [
    "qc.h(0)"
   ]
  },
  {
   "cell_type": "code",
   "execution_count": 4,
   "id": "e5b0a905",
   "metadata": {},
   "outputs": [
    {
     "data": {
      "text/plain": [
       "<qiskit.circuit.instructionset.InstructionSet at 0x18df4ac9800>"
      ]
     },
     "execution_count": 4,
     "metadata": {},
     "output_type": "execute_result"
    }
   ],
   "source": [
    "qc.cx(0,1)"
   ]
  },
  {
   "cell_type": "code",
   "execution_count": 5,
   "id": "7306c290",
   "metadata": {},
   "outputs": [
    {
     "data": {
      "image/png": "[encoded data removed]",
      "text/plain": [
       "<Figure size 206.852x144.48 with 1 Axes>"
      ]
     },
     "execution_count": 5,
     "metadata": {},
     "output_type": "execute_result"
    }
   ],
   "source": [
    "qc.draw('mpl') #drawing the circuit"
   ]
  },
  {
   "cell_type": "markdown",
   "id": "23545a23",
   "metadata": {},
   "source": [
    "For the Physics enthusiasts\n",
    "\n",
    "Our initial state looks like\n",
    "\n",
    "$$|\\psi>=\\begin{bmatrix} 1 \\\\ 0 \\\\ 0 \\\\ 0 \\end{bmatrix}$$\n"
   ]
  },
  {
   "cell_type": "code",
   "execution_count": 30,
   "id": "9cacc915",
   "metadata": {},
   "outputs": [],
   "source": [
    "from qiskit.tools.jupyter import *\n",
    "from qiskit.visualization import *\n",
    "from IPython.display import display, Math, Latex\n",
    "from qiskit.providers.aer import QasmSimulator\n",
    "from qiskit.quantum_info import *\n",
    "from qiskit.visualization import array_to_latex\n",
    "from math import *\n",
    "from cmath import *\n"
   ]
  },
  {
   "cell_type": "markdown",
   "id": "c9122af4",
   "metadata": {},
   "source": [
    "Our Final State vector looks like"
   ]
  },
  {
   "cell_type": "code",
   "execution_count": 7,
   "id": "f3102d5e",
   "metadata": {},
   "outputs": [
    {
     "data": {
      "text/latex": [
       "$$\\frac{\\sqrt{2}}{2} |00\\rangle+\\frac{\\sqrt{2}}{2} |11\\rangle$$"
      ],
      "text/plain": [
       "<IPython.core.display.Latex object>"
      ]
     },
     "execution_count": 7,
     "metadata": {},
     "output_type": "execute_result"
    }
   ],
   "source": [
    "psi_AB = Statevector.from_instruction(qc)\n",
    "psi_AB.draw('latex')"
   ]
  },
  {
   "cell_type": "markdown",
   "id": "828880c0",
   "metadata": {},
   "source": [
    "The Final Desity matrix of the circuit"
   ]
  },
  {
   "cell_type": "code",
   "execution_count": 8,
   "id": "d3c9cdaa",
   "metadata": {},
   "outputs": [
    {
     "data": {
      "text/latex": [
       "$$\n",
       "\\rho_{AB} = \n",
       "\\begin{bmatrix}\n",
       "\\tfrac{1}{2} & 0 & 0 & \\tfrac{1}{2}  \\\\\n",
       " 0 & 0 & 0 & 0  \\\\\n",
       " 0 & 0 & 0 & 0  \\\\\n",
       " \\tfrac{1}{2} & 0 & 0 & \\tfrac{1}{2}  \\\\\n",
       " \\end{bmatrix}\n",
       "$$"
      ],
      "text/plain": [
       "<IPython.core.display.Latex object>"
      ]
     },
     "execution_count": 8,
     "metadata": {},
     "output_type": "execute_result"
    }
   ],
   "source": [
    "rho_AB = DensityMatrix.from_instruction(qc)\n",
    "rho_AB.draw('latex', prefix='\\\\rho_{AB} = ')"
   ]
  },
  {
   "cell_type": "markdown",
   "id": "589eafab",
   "metadata": {},
   "source": [
    "We can also start with a preinitialized state"
   ]
  },
  {
   "cell_type": "code",
   "execution_count": 9,
   "id": "0a7a7682",
   "metadata": {},
   "outputs": [
    {
     "data": {
      "image/png": "[encoded data removed]",
      "text/plain": [
       "<Figure size 193.726x144.48 with 1 Axes>"
      ]
     },
     "execution_count": 9,
     "metadata": {},
     "output_type": "execute_result"
    }
   ],
   "source": [
    "qc1=QuantumCircuit(1,1) #1,1 represent 1 classical Register and 1 Quantum Register\n",
    "initial_state=[1/sqrt(3),sqrt(2/3)]\n",
    "qc1.initialize(initial_state,0)\n",
    "qc1.draw('mpl')"
   ]
  },
  {
   "cell_type": "code",
   "execution_count": 10,
   "id": "a441c143",
   "metadata": {},
   "outputs": [
    {
     "data": {
      "image/png": "[encoded data removed]",
      "text/plain": [
       "<Figure size 253.926x144.48 with 1 Axes>"
      ]
     },
     "execution_count": 10,
     "metadata": {},
     "output_type": "execute_result"
    }
   ],
   "source": [
    "qc1.h(0)\n",
    "qc1.draw('mpl')"
   ]
  },
  {
   "cell_type": "markdown",
   "id": "b6e9166a",
   "metadata": {},
   "source": [
    "Initial state vector and desity matrix looks like"
   ]
  },
  {
   "cell_type": "code",
   "execution_count": 11,
   "id": "b2d6ea5f",
   "metadata": {},
   "outputs": [
    {
     "data": {
      "text/latex": [
       "$$0.985598559653489 |0\\rangle- \\sqrt{\\frac{1}{2} - \\frac{\\sqrt{2}}{3}} |1\\rangle$$"
      ],
      "text/plain": [
       "<IPython.core.display.Latex object>"
      ]
     },
     "execution_count": 11,
     "metadata": {},
     "output_type": "execute_result"
    }
   ],
   "source": [
    "psi_AB1 = Statevector.from_instruction(qc1)\n",
    "psi_AB1.draw('latex')"
   ]
  },
  {
   "cell_type": "code",
   "execution_count": 12,
   "id": "55de05b4",
   "metadata": {},
   "outputs": [
    {
     "data": {
      "text/latex": [
       "$$\n",
       "\\rho=\n",
       "\\begin{bmatrix}\n",
       "0.9714 & -\\tfrac{1}{6}  \\\\\n",
       " -\\tfrac{1}{6} & 0.0286  \\\\\n",
       " \\end{bmatrix}\n",
       "$$"
      ],
      "text/plain": [
       "<IPython.core.display.Latex object>"
      ]
     },
     "execution_count": 12,
     "metadata": {},
     "output_type": "execute_result"
    }
   ],
   "source": [
    "rho=DensityMatrix.from_instruction(qc1)\n",
    "rho.draw('latex',prefix='\\\\rho=')"
   ]
  },
  {
   "cell_type": "code",
   "execution_count": 13,
   "id": "05600e62",
   "metadata": {},
   "outputs": [
    {
     "data": {
      "image/png": "[encoded data removed]",
      "text/plain": [
       "<Figure size 1080x360 with 2 Axes>"
      ]
     },
     "execution_count": 13,
     "metadata": {},
     "output_type": "execute_result"
    }
   ],
   "source": [
    "plot_state_city(rho.data,title='Density matrix')"
   ]
  },
  {
   "cell_type": "code",
   "execution_count": 14,
   "id": "d1a4f0fb",
   "metadata": {},
   "outputs": [
    {
     "data": {
      "image/png": "[encoded data removed]",
      "text/plain": [
       "<Figure size 288x288 with 1 Axes>"
      ]
     },
     "execution_count": 14,
     "metadata": {},
     "output_type": "execute_result"
    }
   ],
   "source": [
    "plot_bloch_multivector(rho.data)"
   ]
  },
  {
   "cell_type": "markdown",
   "id": "fec1e145",
   "metadata": {},
   "source": [
    "### Running the initial circuit on a simulator "
   ]
  },
  {
   "cell_type": "code",
   "execution_count": 15,
   "id": "d4aefd2e",
   "metadata": {},
   "outputs": [
    {
     "data": {
      "image/png": "[encoded data removed]",
      "text/plain": [
       "<Figure size 206.852x144.48 with 1 Axes>"
      ]
     },
     "execution_count": 15,
     "metadata": {},
     "output_type": "execute_result"
    }
   ],
   "source": [
    "qc.draw('mpl')"
   ]
  },
  {
   "cell_type": "markdown",
   "id": "48c07a18",
   "metadata": {},
   "source": [
    "Lets add the command to measure the Qubits"
   ]
  },
  {
   "cell_type": "code",
   "execution_count": 16,
   "id": "998dca0a",
   "metadata": {},
   "outputs": [],
   "source": [
    "qc.measure_all()"
   ]
  },
  {
   "cell_type": "code",
   "execution_count": 17,
   "id": "80d2feba",
   "metadata": {},
   "outputs": [
    {
     "data": {
      "image/png": "[encoded data removed]",
      "text/plain": [
       "<Figure size 417.879x204.68 with 1 Axes>"
      ]
     },
     "execution_count": 17,
     "metadata": {},
     "output_type": "execute_result"
    }
   ],
   "source": [
    "qc.draw('mpl')"
   ]
  },
  {
   "cell_type": "code",
   "execution_count": null,
   "id": "e8cbd4aa",
   "metadata": {},
   "outputs": [],
   "source": []
  },
  {
   "cell_type": "code",
   "execution_count": null,
   "id": "af2afa8a",
   "metadata": {},
   "outputs": [],
   "source": []
  },
  {
   "cell_type": "code",
   "execution_count": 33,
   "id": "67ac4bb3",
   "metadata": {},
   "outputs": [
    {
     "data": {
      "text/plain": [
       "[AerSimulator('aer_simulator'),\n",
       " AerSimulator('aer_simulator_statevector'),\n",
       " AerSimulator('aer_simulator_density_matrix'),\n",
       " AerSimulator('aer_simulator_stabilizer'),\n",
       " AerSimulator('aer_simulator_matrix_product_state'),\n",
       " AerSimulator('aer_simulator_extended_stabilizer'),\n",
       " AerSimulator('aer_simulator_unitary'),\n",
       " AerSimulator('aer_simulator_superop'),\n",
       " QasmSimulator('qasm_simulator'),\n",
       " StatevectorSimulator('statevector_simulator'),\n",
       " UnitarySimulator('unitary_simulator'),\n",
       " PulseSimulator('pulse_simulator')]"
      ]
     },
     "execution_count": 33,
     "metadata": {},
     "output_type": "execute_result"
    }
   ],
   "source": [
    "Aer.backends()"
   ]
  },
  {
   "cell_type": "code",
   "execution_count": 35,
   "id": "5898e3b7",
   "metadata": {},
   "outputs": [],
   "source": [
    "backend = Aer.get_backend('aer_simulator')"
   ]
  },
  {
   "cell_type": "code",
   "execution_count": 36,
   "id": "90a13a0f",
   "metadata": {},
   "outputs": [
    {
     "data": {
      "image/png": "[encoded data removed]",
      "text/plain": [
       "<Figure size 417.879x204.68 with 1 Axes>"
      ]
     },
     "execution_count": 36,
     "metadata": {},
     "output_type": "execute_result"
    }
   ],
   "source": [
    "qct = transpile(qc, backend)\n",
    "qct.draw('mpl')"
   ]
  },
  {
   "cell_type": "code",
   "execution_count": 37,
   "id": "80a7326b",
   "metadata": {},
   "outputs": [
    {
     "name": "stdout",
     "output_type": "stream",
     "text": [
      "Job Status: job has successfully run\n"
     ]
    }
   ],
   "source": [
    "job=execute(qc, backend=backend, shots=20000, optimization_level=0)\n",
    "#print(job.name)\n",
    "from qiskit.tools.monitor import job_monitor\n",
    "job_monitor(job)\n"
   ]
  },
  {
   "cell_type": "code",
   "execution_count": 38,
   "id": "44adf8d2",
   "metadata": {},
   "outputs": [
    {
     "name": "stdout",
     "output_type": "stream",
     "text": [
      "{'11': 10039, '00': 9961}\n"
     ]
    }
   ],
   "source": [
    "result=job.result()\n",
    "counts = result.get_counts(qc)\n",
    "print(counts)"
   ]
  },
  {
   "cell_type": "code",
   "execution_count": 22,
   "id": "903f2a59",
   "metadata": {},
   "outputs": [
    {
     "data": {
      "image/png": "[encoded data removed]",
      "text/plain": [
       "<Figure size 504x360 with 1 Axes>"
      ]
     },
     "execution_count": 22,
     "metadata": {},
     "output_type": "execute_result"
    }
   ],
   "source": [
    "plot_histogram(result.get_counts(qc))"
   ]
  },
  {
   "cell_type": "markdown",
   "id": "a29d6d18",
   "metadata": {},
   "source": [
    "### Running on actual backend"
   ]
  },
  {
   "cell_type": "code",
   "execution_count": 23,
   "id": "eeb0188c",
   "metadata": {},
   "outputs": [
    {
     "name": "stderr",
     "output_type": "stream",
     "text": [
      "configrc.store_credentials:WARNING:2022-10-14 11:59:05,153: Credentials already present. Set overwrite=True to overwrite.\n"
     ]
    },
    {
     "data": {
      "text/plain": [
       "<AccountProvider for IBMQ(hub='ibm-q', group='open', project='main')>"
      ]
     },
     "execution_count": 23,
     "metadata": {},
     "output_type": "execute_result"
    }
   ],
   "source": [
    "IBMQ.save_account('Your IBM Account token')\n",
    "IBMQ.load_account()\n"
   ]
  },
  {
   "cell_type": "code",
   "execution_count": 24,
   "id": "6d35f0e4",
   "metadata": {},
   "outputs": [
    {
     "data": {
      "text/plain": [
       "[<IBMQSimulator('ibmq_qasm_simulator') from IBMQ(hub='ibm-q', group='open', project='main')>,\n",
       " <IBMQBackend('ibmq_lima') from IBMQ(hub='ibm-q', group='open', project='main')>,\n",
       " <IBMQBackend('ibmq_belem') from IBMQ(hub='ibm-q', group='open', project='main')>,\n",
       " <IBMQBackend('ibmq_quito') from IBMQ(hub='ibm-q', group='open', project='main')>,\n",
       " <IBMQSimulator('simulator_statevector') from IBMQ(hub='ibm-q', group='open', project='main')>,\n",
       " <IBMQSimulator('simulator_mps') from IBMQ(hub='ibm-q', group='open', project='main')>,\n",
       " <IBMQSimulator('simulator_extended_stabilizer') from IBMQ(hub='ibm-q', group='open', project='main')>,\n",
       " <IBMQSimulator('simulator_stabilizer') from IBMQ(hub='ibm-q', group='open', project='main')>,\n",
       " <IBMQBackend('ibmq_manila') from IBMQ(hub='ibm-q', group='open', project='main')>,\n",
       " <IBMQBackend('ibm_nairobi') from IBMQ(hub='ibm-q', group='open', project='main')>,\n",
       " <IBMQBackend('ibm_oslo') from IBMQ(hub='ibm-q', group='open', project='main')>]"
      ]
     },
     "execution_count": 24,
     "metadata": {},
     "output_type": "execute_result"
    }
   ],
   "source": [
    "provider = IBMQ.get_provider(hub='ibm-q', group='open', project='main')\n",
    "provider.backends()"
   ]
  },
  {
   "cell_type": "code",
   "execution_count": 25,
   "id": "3a57c4a0",
   "metadata": {},
   "outputs": [],
   "source": [
    "backend=provider.get_backend('ibmq_quito')"
   ]
  },
  {
   "cell_type": "code",
   "execution_count": 26,
   "id": "61b7c153",
   "metadata": {},
   "outputs": [
    {
     "data": {
      "image/png": "[encoded data removed]",
      "text/plain": [
       "<Figure size 600.731x385.28 with 1 Axes>"
      ]
     },
     "execution_count": 26,
     "metadata": {},
     "output_type": "execute_result"
    }
   ],
   "source": [
    "qct = transpile(qc, backend)\n",
    "qct.draw('mpl')"
   ]
  },
  {
   "cell_type": "code",
   "execution_count": 27,
   "id": "e8f73821",
   "metadata": {},
   "outputs": [
    {
     "data": {
      "image/png": "[encoded data removed]",
      "text/plain": [
       "<Figure size 936x857.099 with 1 Axes>"
      ]
     },
     "execution_count": 27,
     "metadata": {},
     "output_type": "execute_result"
    }
   ],
   "source": [
    "schedule(qct, backend).draw()"
   ]
  },
  {
   "cell_type": "code",
   "execution_count": 28,
   "id": "90f86373",
   "metadata": {},
   "outputs": [
    {
     "name": "stdout",
     "output_type": "stream",
     "text": [
      "Job Status: job is queued (27)    "
     ]
    },
    {
     "ename": "KeyboardInterrupt",
     "evalue": "",
     "output_type": "error",
     "traceback": [
      "\u001b[1;31m---------------------------------------------------------------------------\u001b[0m",
      "\u001b[1;31mKeyboardInterrupt\u001b[0m                         Traceback (most recent call last)",
      "Input \u001b[1;32mIn [28]\u001b[0m, in \u001b[0;36m<cell line: 3>\u001b[1;34m()\u001b[0m\n\u001b[0;32m      1\u001b[0m job\u001b[38;5;241m=\u001b[39mexecute(qc, backend\u001b[38;5;241m=\u001b[39mbackend, shots\u001b[38;5;241m=\u001b[39m\u001b[38;5;241m20000\u001b[39m, optimization_level\u001b[38;5;241m=\u001b[39m\u001b[38;5;241m0\u001b[39m)\n\u001b[0;32m      2\u001b[0m \u001b[38;5;28;01mfrom\u001b[39;00m \u001b[38;5;21;01mqiskit\u001b[39;00m\u001b[38;5;21;01m.\u001b[39;00m\u001b[38;5;21;01mtools\u001b[39;00m\u001b[38;5;21;01m.\u001b[39;00m\u001b[38;5;21;01mmonitor\u001b[39;00m \u001b[38;5;28;01mimport\u001b[39;00m job_monitor\n\u001b[1;32m----> 3\u001b[0m \u001b[43mjob_monitor\u001b[49m\u001b[43m(\u001b[49m\u001b[43mjob\u001b[49m\u001b[43m)\u001b[49m\n",
      "File \u001b[1;32m~\\AppData\\Local\\Packages\\PythonSoftwareFoundation.Python.3.9_qbz5n2kfra8p0\\LocalCache\\local-packages\\Python39\\site-packages\\qiskit\\tools\\monitor\\job_monitor.py:89\u001b[0m, in \u001b[0;36mjob_monitor\u001b[1;34m(job, interval, quiet, output, line_discipline)\u001b[0m\n\u001b[0;32m     86\u001b[0m \u001b[38;5;28;01melse\u001b[39;00m:\n\u001b[0;32m     87\u001b[0m     _interval_set \u001b[38;5;241m=\u001b[39m \u001b[38;5;28;01mTrue\u001b[39;00m\n\u001b[1;32m---> 89\u001b[0m \u001b[43m_text_checker\u001b[49m\u001b[43m(\u001b[49m\n\u001b[0;32m     90\u001b[0m \u001b[43m    \u001b[49m\u001b[43mjob\u001b[49m\u001b[43m,\u001b[49m\u001b[43m \u001b[49m\u001b[43minterval\u001b[49m\u001b[43m,\u001b[49m\u001b[43m \u001b[49m\u001b[43m_interval_set\u001b[49m\u001b[43m,\u001b[49m\u001b[43m \u001b[49m\u001b[43mquiet\u001b[49m\u001b[38;5;241;43m=\u001b[39;49m\u001b[43mquiet\u001b[49m\u001b[43m,\u001b[49m\u001b[43m \u001b[49m\u001b[43moutput\u001b[49m\u001b[38;5;241;43m=\u001b[39;49m\u001b[43moutput\u001b[49m\u001b[43m,\u001b[49m\u001b[43m \u001b[49m\u001b[43mline_discipline\u001b[49m\u001b[38;5;241;43m=\u001b[39;49m\u001b[43mline_discipline\u001b[49m\n\u001b[0;32m     91\u001b[0m \u001b[43m\u001b[49m\u001b[43m)\u001b[49m\n",
      "File \u001b[1;32m~\\AppData\\Local\\Packages\\PythonSoftwareFoundation.Python.3.9_qbz5n2kfra8p0\\LocalCache\\local-packages\\Python39\\site-packages\\qiskit\\tools\\monitor\\job_monitor.py:44\u001b[0m, in \u001b[0;36m_text_checker\u001b[1;34m(job, interval, _interval_set, quiet, output, line_discipline)\u001b[0m\n\u001b[0;32m     42\u001b[0m     \u001b[38;5;28mprint\u001b[39m(\u001b[38;5;124m\"\u001b[39m\u001b[38;5;132;01m{}\u001b[39;00m\u001b[38;5;132;01m{}\u001b[39;00m\u001b[38;5;124m: \u001b[39m\u001b[38;5;132;01m{}\u001b[39;00m\u001b[38;5;124m\"\u001b[39m\u001b[38;5;241m.\u001b[39mformat(line_discipline, \u001b[38;5;124m\"\u001b[39m\u001b[38;5;124mJob Status\u001b[39m\u001b[38;5;124m\"\u001b[39m, msg), end\u001b[38;5;241m=\u001b[39m\u001b[38;5;124m\"\u001b[39m\u001b[38;5;124m\"\u001b[39m, file\u001b[38;5;241m=\u001b[39moutput)\n\u001b[0;32m     43\u001b[0m \u001b[38;5;28;01mwhile\u001b[39;00m status\u001b[38;5;241m.\u001b[39mname \u001b[38;5;129;01mnot\u001b[39;00m \u001b[38;5;129;01min\u001b[39;00m [\u001b[38;5;124m\"\u001b[39m\u001b[38;5;124mDONE\u001b[39m\u001b[38;5;124m\"\u001b[39m, \u001b[38;5;124m\"\u001b[39m\u001b[38;5;124mCANCELLED\u001b[39m\u001b[38;5;124m\"\u001b[39m, \u001b[38;5;124m\"\u001b[39m\u001b[38;5;124mERROR\u001b[39m\u001b[38;5;124m\"\u001b[39m]:\n\u001b[1;32m---> 44\u001b[0m     \u001b[43mtime\u001b[49m\u001b[38;5;241;43m.\u001b[39;49m\u001b[43msleep\u001b[49m\u001b[43m(\u001b[49m\u001b[43minterval\u001b[49m\u001b[43m)\u001b[49m\n\u001b[0;32m     45\u001b[0m     status \u001b[38;5;241m=\u001b[39m job\u001b[38;5;241m.\u001b[39mstatus()\n\u001b[0;32m     46\u001b[0m     msg \u001b[38;5;241m=\u001b[39m status\u001b[38;5;241m.\u001b[39mvalue\n",
      "\u001b[1;31mKeyboardInterrupt\u001b[0m: "
     ]
    }
   ],
   "source": [
    "job=execute(qc, backend=backend, shots=20000, optimization_level=0)\n",
    "from qiskit.tools.monitor import job_monitor\n",
    "job_monitor(job)\n"
   ]
  },
  {
   "cell_type": "code",
   "execution_count": null,
   "id": "ca77a691",
   "metadata": {},
   "outputs": [],
   "source": [
    "result=job.result()\n",
    "counts = result.get_counts(qc)\n",
    "print(counts)"
   ]
  },
  {
   "cell_type": "code",
   "execution_count": null,
   "id": "b0d0e66b",
   "metadata": {},
   "outputs": [],
   "source": [
    "from qiskit.tools.visualization import plot_histogram\n",
    "\n",
    "plot_histogram(result.get_counts(qc))"
   ]
  },
  {
   "cell_type": "markdown",
   "id": "6a383d72",
   "metadata": {},
   "source": [
    "## Gates in Qiskit"
   ]
  },
  {
   "cell_type": "markdown",
   "id": "57e00188",
   "metadata": {},
   "source": [
    "### Pauli Gates"
   ]
  },
  {
   "cell_type": "markdown",
   "id": "1d36887d",
   "metadata": {},
   "source": [
    "#### X gate or the Not Gate"
   ]
  },
  {
   "cell_type": "markdown",
   "id": "4142f43c",
   "metadata": {},
   "source": [
    "$$X = \\begin{bmatrix} 0 & 1 \\\\ 1 & 0 \\end{bmatrix} = u(\\pi,0,\\pi)$$"
   ]
  },
  {
   "cell_type": "code",
   "execution_count": 39,
   "id": "45030815",
   "metadata": {},
   "outputs": [
    {
     "data": {
      "image/png": "[encoded data removed]",
      "text/plain": [
       "<Figure size 133.526x84.28 with 1 Axes>"
      ]
     },
     "execution_count": 39,
     "metadata": {},
     "output_type": "execute_result"
    }
   ],
   "source": [
    "qc = QuantumCircuit(1)\n",
    "qc.x(0)\n",
    "qc.draw('mpl')"
   ]
  },
  {
   "cell_type": "code",
   "execution_count": 40,
   "id": "094f3368",
   "metadata": {},
   "outputs": [],
   "source": [
    "backend = BasicAer.get_backend('unitary_simulator') # Converting whole gate to a unitary"
   ]
  },
  {
   "cell_type": "code",
   "execution_count": 41,
   "id": "25e4b369",
   "metadata": {},
   "outputs": [
    {
     "data": {
      "text/latex": [
       "$$\n",
       "Output = \n",
       "\\begin{bmatrix}\n",
       "0 & 1  \\\\\n",
       " 1 & 0  \\\\\n",
       " \\end{bmatrix}\n",
       "$$"
      ],
      "text/plain": [
       "<IPython.core.display.Latex object>"
      ]
     },
     "execution_count": 41,
     "metadata": {},
     "output_type": "execute_result"
    }
   ],
   "source": [
    "job = backend.run(transpile(qc, backend))\n",
    "array_to_latex(job.result().get_unitary(qc, decimals=3), prefix='Output = ', max_size=24)"
   ]
  },
  {
   "cell_type": "markdown",
   "id": "77db070f",
   "metadata": {},
   "source": [
    "#### Y gate"
   ]
  },
  {
   "cell_type": "markdown",
   "id": "10fe9732",
   "metadata": {},
   "source": [
    "$$Y = \\begin{bmatrix} 0 & -i \\\\ i & 0 \\end{bmatrix} = u(\\pi,\\pi/2,\\pi/2)$$"
   ]
  },
  {
   "cell_type": "code",
   "execution_count": 42,
   "id": "5f9b40a5",
   "metadata": {},
   "outputs": [
    {
     "data": {
      "image/png": "[encoded data removed]",
      "text/plain": [
       "<Figure size 133.526x84.28 with 1 Axes>"
      ]
     },
     "execution_count": 42,
     "metadata": {},
     "output_type": "execute_result"
    }
   ],
   "source": [
    "qc = QuantumCircuit(1)\n",
    "qc.y(0)\n",
    "qc.draw('mpl')\n"
   ]
  },
  {
   "cell_type": "markdown",
   "id": "83df3274",
   "metadata": {},
   "source": [
    "#### Z gate"
   ]
  },
  {
   "cell_type": "markdown",
   "id": "d718dca7",
   "metadata": {},
   "source": [
    "$$Z = \\begin{bmatrix} 1 & 0 \\\\ 0 & -1 \\end{bmatrix} = u(\\pi)$$"
   ]
  },
  {
   "cell_type": "code",
   "execution_count": 43,
   "id": "4778e769",
   "metadata": {},
   "outputs": [
    {
     "data": {
      "image/png": "[encoded data removed]",
      "text/plain": [
       "<Figure size 133.526x84.28 with 1 Axes>"
      ]
     },
     "execution_count": 43,
     "metadata": {},
     "output_type": "execute_result"
    }
   ],
   "source": [
    "qc = QuantumCircuit(1)\n",
    "qc.z(0)\n",
    "qc.draw('mpl')"
   ]
  },
  {
   "cell_type": "markdown",
   "id": "13cb254d",
   "metadata": {},
   "source": [
    "### Clifford gates"
   ]
  },
  {
   "cell_type": "markdown",
   "id": "35aa2515",
   "metadata": {},
   "source": [
    "#### Hadamard gate"
   ]
  },
  {
   "cell_type": "markdown",
   "id": "327cb161",
   "metadata": {},
   "source": [
    "$$H = 1/\\sqrt2 \\begin{bmatrix} 1 & 1 \\\\ 1 & -1 \\end{bmatrix} = u(\\pi/2,0,\\pi)$$"
   ]
  },
  {
   "cell_type": "code",
   "execution_count": 44,
   "id": "3a68f5dc",
   "metadata": {},
   "outputs": [
    {
     "data": {
      "image/png": "[encoded data removed]",
      "text/plain": [
       "<Figure size 133.526x84.28 with 1 Axes>"
      ]
     },
     "execution_count": 44,
     "metadata": {},
     "output_type": "execute_result"
    }
   ],
   "source": [
    "qc = QuantumCircuit(1)\n",
    "qc.h(0)\n",
    "qc.draw('mpl')"
   ]
  },
  {
   "cell_type": "markdown",
   "id": "212b27c6",
   "metadata": {},
   "source": [
    "Similarly qiskit has S, T etc gates"
   ]
  },
  {
   "cell_type": "markdown",
   "id": "a31a6330",
   "metadata": {},
   "source": [
    "### Standard Rotations"
   ]
  },
  {
   "cell_type": "markdown",
   "id": "6a82c8be",
   "metadata": {},
   "source": [
    "#### X axis Roation"
   ]
  },
  {
   "cell_type": "markdown",
   "id": "2b8683e0",
   "metadata": {},
   "source": [
    "$$Rx(\\theta) = \\begin{bmatrix} cos(\\theta/2) & -i sin(\\theta/2) \\\\ -i sin(\\theta/2) & cos(\\theta/2) \\end{bmatrix} = u(\\theta,-\\pi/2,\\pi/2)$$"
   ]
  },
  {
   "cell_type": "code",
   "execution_count": 48,
   "id": "898f09f2",
   "metadata": {},
   "outputs": [
    {
     "data": {
      "image/png": "[encoded data removed]",
      "text/plain": [
       "<Figure size 133.526x84.28 with 1 Axes>"
      ]
     },
     "execution_count": 48,
     "metadata": {},
     "output_type": "execute_result"
    }
   ],
   "source": [
    "qc = QuantumCircuit(1)\n",
    "qc.rx(pi,0)\n",
    "qc.draw('mpl')"
   ]
  },
  {
   "cell_type": "code",
   "execution_count": 46,
   "id": "958d8886",
   "metadata": {},
   "outputs": [],
   "source": [
    "backend = BasicAer.get_backend('unitary_simulator') # Converting whole gate to a unitary"
   ]
  },
  {
   "cell_type": "code",
   "execution_count": 49,
   "id": "81438490",
   "metadata": {},
   "outputs": [
    {
     "data": {
      "text/latex": [
       "$$\n",
       "Output = \n",
       "\\begin{bmatrix}\n",
       "0 & -i  \\\\\n",
       " -i & 0  \\\\\n",
       " \\end{bmatrix}\n",
       "$$"
      ],
      "text/plain": [
       "<IPython.core.display.Latex object>"
      ]
     },
     "execution_count": 49,
     "metadata": {},
     "output_type": "execute_result"
    }
   ],
   "source": [
    "job = backend.run(transpile(qc, backend))\n",
    "array_to_latex(job.result().get_unitary(qc, decimals=3), prefix='Output = ', max_size=24)"
   ]
  },
  {
   "cell_type": "markdown",
   "id": "df5fa707",
   "metadata": {},
   "source": [
    "#### Similarly Y and Z axis Roation"
   ]
  },
  {
   "cell_type": "markdown",
   "id": "7633f4cb",
   "metadata": {},
   "source": [
    "$$Ry(\\theta) = \\begin{bmatrix} cos(\\theta/2) & sin(\\theta/2) \\\\ sin(\\theta/2) & cos(\\theta/2) \\end{bmatrix} = u(\\theta,0,0)$$ $$Rz(\\phi) = \\begin{bmatrix} e^{-i\\phi/2} & 0 \\\\ 0 & e^{i\\phi/2} \\end{bmatrix} = u(0,0,\\phi)$$"
   ]
  },
  {
   "cell_type": "code",
   "execution_count": 50,
   "id": "76bf58ac",
   "metadata": {},
   "outputs": [
    {
     "data": {
      "image/png": "[encoded data removed]",
      "text/plain": [
       "<Figure size 193.726x84.28 with 1 Axes>"
      ]
     },
     "execution_count": 50,
     "metadata": {},
     "output_type": "execute_result"
    }
   ],
   "source": [
    "qc = QuantumCircuit(1)\n",
    "qc.ry(pi/2,0)\n",
    "qc.rz(pi/4,0)\n",
    "qc.draw('mpl')"
   ]
  },
  {
   "cell_type": "markdown",
   "id": "711e1448",
   "metadata": {},
   "source": [
    "## Unitary gate"
   ]
  },
  {
   "cell_type": "markdown",
   "id": "c9479265",
   "metadata": {},
   "source": [
    "Qiskit gives you access to the general unitary using the u gate, which has the following matrix form"
   ]
  },
  {
   "cell_type": "markdown",
   "id": "98a15a32",
   "metadata": {},
   "source": [
    "$$U(\\theta,\\phi,\\lambda) = \\begin{bmatrix} cos(\\theta/2) & e^{i\\lambda}sin(\\theta/2) \\\\ e^{i\\phi}sin(\\theta/2) & e^{i(\\phi+\\lambda)}cos(\\theta/2) \\end{bmatrix}$$"
   ]
  },
  {
   "cell_type": "code",
   "execution_count": 51,
   "id": "15b7184d",
   "metadata": {},
   "outputs": [
    {
     "data": {
      "image/png": "[encoded data removed]",
      "text/plain": [
       "<Figure size 193.726x84.28 with 1 Axes>"
      ]
     },
     "execution_count": 51,
     "metadata": {},
     "output_type": "execute_result"
    }
   ],
   "source": [
    "qc = QuantumCircuit(1)\n",
    "\n",
    "qc.u(pi/2,pi/4,pi/8,0)\n",
    "qc.draw('mpl')"
   ]
  },
  {
   "cell_type": "code",
   "execution_count": 52,
   "id": "e420859b",
   "metadata": {},
   "outputs": [
    {
     "data": {
      "text/latex": [
       "$$\n",
       "Output = \n",
       "\\begin{bmatrix}\n",
       "0.707 & -0.653 - 0.271i  \\\\\n",
       " \\tfrac{1}{2}(1 + i) & 0.271 + 0.653i  \\\\\n",
       " \\end{bmatrix}\n",
       "$$"
      ],
      "text/plain": [
       "<IPython.core.display.Latex object>"
      ]
     },
     "execution_count": 52,
     "metadata": {},
     "output_type": "execute_result"
    }
   ],
   "source": [
    "job = backend.run(transpile(qc, backend))\n",
    "array_to_latex(job.result().get_unitary(qc, decimals=3), prefix='Output = ', max_size=24)"
   ]
  },
  {
   "cell_type": "markdown",
   "id": "cedf4c29",
   "metadata": {},
   "source": [
    "## Multiqubit Gates"
   ]
  },
  {
   "cell_type": "markdown",
   "id": "4f5f6281",
   "metadata": {},
   "source": [
    "### Controlled Pauli Gates"
   ]
  },
  {
   "cell_type": "markdown",
   "id": "bf9a638d",
   "metadata": {},
   "source": [
    "#### Controlled-X (or, Controlled-NOT) gate"
   ]
  },
  {
   "cell_type": "markdown",
   "id": "6ea48bd8",
   "metadata": {},
   "source": [
    "The Controlled-NOT gate flips the target qubit when the control qubit is in the state |1> ."
   ]
  },
  {
   "cell_type": "code",
   "execution_count": 53,
   "id": "0f9cd7b3",
   "metadata": {},
   "outputs": [
    {
     "data": {
      "image/png": "[encoded data removed]",
      "text/plain": [
       "<Figure size 146.652x144.48 with 1 Axes>"
      ]
     },
     "execution_count": 53,
     "metadata": {},
     "output_type": "execute_result"
    }
   ],
   "source": [
    "qc = QuantumCircuit(2)\n",
    "qc.cx(0,1)\n",
    "qc.draw('mpl')"
   ]
  },
  {
   "cell_type": "markdown",
   "id": "2be0a10d",
   "metadata": {},
   "source": [
    " If we take the LSB as the control qubit (e.g. cx(q[0],q[1])), then the matrix would look like"
   ]
  },
  {
   "cell_type": "code",
   "execution_count": 54,
   "id": "a5439efd",
   "metadata": {},
   "outputs": [
    {
     "data": {
      "text/latex": [
       "$$\n",
       "Output = \n",
       "\\begin{bmatrix}\n",
       "1 & 0 & 0 & 0  \\\\\n",
       " 0 & 0 & 0 & 1  \\\\\n",
       " 0 & 0 & 1 & 0  \\\\\n",
       " 0 & 1 & 0 & 0  \\\\\n",
       " \\end{bmatrix}\n",
       "$$"
      ],
      "text/plain": [
       "<IPython.core.display.Latex object>"
      ]
     },
     "execution_count": 54,
     "metadata": {},
     "output_type": "execute_result"
    }
   ],
   "source": [
    "job = backend.run(transpile(qc, backend))\n",
    "array_to_latex(job.result().get_unitary(qc, decimals=3), prefix='Output = ', max_size=24)"
   ]
  },
  {
   "cell_type": "markdown",
   "id": "66ab21ec",
   "metadata": {},
   "source": [
    "However, when the MSB is the control qubit, (e.g. cx(q[1],q[0])), this gate is equivalent to the following matrix:\n",
    "\n",
    " \n"
   ]
  },
  {
   "cell_type": "code",
   "execution_count": 55,
   "id": "732648cd",
   "metadata": {},
   "outputs": [
    {
     "data": {
      "image/png": "[encoded data removed]",
      "text/plain": [
       "<Figure size 146.652x144.48 with 1 Axes>"
      ]
     },
     "execution_count": 55,
     "metadata": {},
     "output_type": "execute_result"
    }
   ],
   "source": [
    "qc = QuantumCircuit(2)\n",
    "qc.cx(1,0) #control and target are opposite to previous operation\n",
    "qc.draw('mpl')\n"
   ]
  },
  {
   "cell_type": "code",
   "execution_count": 56,
   "id": "86f7acf7",
   "metadata": {},
   "outputs": [
    {
     "data": {
      "text/latex": [
       "$$\n",
       "Output = \n",
       "\\begin{bmatrix}\n",
       "1 & 0 & 0 & 0  \\\\\n",
       " 0 & 1 & 0 & 0  \\\\\n",
       " 0 & 0 & 0 & 1  \\\\\n",
       " 0 & 0 & 1 & 0  \\\\\n",
       " \\end{bmatrix}\n",
       "$$"
      ],
      "text/plain": [
       "<IPython.core.display.Latex object>"
      ]
     },
     "execution_count": 56,
     "metadata": {},
     "output_type": "execute_result"
    }
   ],
   "source": [
    "job = backend.run(transpile(qc, backend))\n",
    "array_to_latex(job.result().get_unitary(qc, decimals=3), prefix='Output = ', max_size=24)"
   ]
  },
  {
   "cell_type": "markdown",
   "id": "a5de0a20",
   "metadata": {},
   "source": [
    "#### Similarly for Controlled Y and Controled Z gates"
   ]
  },
  {
   "cell_type": "code",
   "execution_count": 57,
   "id": "52ec20ec",
   "metadata": {},
   "outputs": [
    {
     "data": {
      "image/png": "[encoded data removed]",
      "text/plain": [
       "<Figure size 146.652x144.48 with 1 Axes>"
      ]
     },
     "execution_count": 57,
     "metadata": {},
     "output_type": "execute_result"
    }
   ],
   "source": [
    "qc = QuantumCircuit(2)\n",
    "qc.cy(0,1)\n",
    "qc.draw('mpl')"
   ]
  },
  {
   "cell_type": "code",
   "execution_count": 58,
   "id": "f15868c0",
   "metadata": {},
   "outputs": [
    {
     "data": {
      "text/latex": [
       "$$\n",
       "Output = \n",
       "\\begin{bmatrix}\n",
       "1 & 0 & 0 & 0  \\\\\n",
       " 0 & 0 & 0 & -i  \\\\\n",
       " 0 & 0 & 1 & 0  \\\\\n",
       " 0 & i & 0 & 0  \\\\\n",
       " \\end{bmatrix}\n",
       "$$"
      ],
      "text/plain": [
       "<IPython.core.display.Latex object>"
      ]
     },
     "execution_count": 58,
     "metadata": {},
     "output_type": "execute_result"
    }
   ],
   "source": [
    "job = backend.run(transpile(qc, backend))\n",
    "array_to_latex(job.result().get_unitary(qc, decimals=3), prefix='Output = ', max_size=24)"
   ]
  },
  {
   "cell_type": "code",
   "execution_count": 59,
   "id": "69d94d13",
   "metadata": {},
   "outputs": [
    {
     "data": {
      "image/png": "[encoded data removed]",
      "text/plain": [
       "<Figure size 146.652x144.48 with 1 Axes>"
      ]
     },
     "execution_count": 59,
     "metadata": {},
     "output_type": "execute_result"
    }
   ],
   "source": [
    "qc = QuantumCircuit(2)\n",
    "qc.cz(0,1)\n",
    "qc.draw('mpl')"
   ]
  },
  {
   "cell_type": "code",
   "execution_count": 60,
   "id": "faa1a841",
   "metadata": {},
   "outputs": [
    {
     "data": {
      "text/latex": [
       "$$\n",
       "Output = \n",
       "\\begin{bmatrix}\n",
       "1 & 0 & 0 & 0  \\\\\n",
       " 0 & 1 & 0 & 0  \\\\\n",
       " 0 & 0 & 1 & 0  \\\\\n",
       " 0 & 0 & 0 & -1  \\\\\n",
       " \\end{bmatrix}\n",
       "$$"
      ],
      "text/plain": [
       "<IPython.core.display.Latex object>"
      ]
     },
     "execution_count": 60,
     "metadata": {},
     "output_type": "execute_result"
    }
   ],
   "source": [
    "job = backend.run(transpile(qc, backend))\n",
    "array_to_latex(job.result().get_unitary(qc, decimals=3), prefix='Output = ', max_size=24)"
   ]
  },
  {
   "cell_type": "markdown",
   "id": "f666d73b",
   "metadata": {},
   "source": [
    "### Controlled Unitary Gate"
   ]
  },
  {
   "cell_type": "markdown",
   "id": "1df53705",
   "metadata": {},
   "source": [
    "There is a controlled version of the U gate (generic single qubit rotation), including a possible global phase  of the U gate."
   ]
  },
  {
   "cell_type": "markdown",
   "id": "323801ab",
   "metadata": {},
   "source": [
    "$$Cu(\\theta,\\phi,\\lambda) = \\begin{bmatrix} 1 & 0 & 0 & 0 \\\\ 0 & e^{-i(\\phi+\\lambda)/2}cos(\\theta/2) & 0 & e^{-i(\\phi-\\lambda)/2}sin(\\theta/2) \\\\ 0 & 0 & 1 & 0\\\\ 0 & e^{i(\\phi-\\lambda)/2}sin(\\theta/2) & 0 & e^{i(\\phi+\\lambda)/2}cos(\\theta/2) \\end{bmatrix}$$"
   ]
  },
  {
   "cell_type": "code",
   "execution_count": null,
   "id": "8e53d053",
   "metadata": {},
   "outputs": [],
   "source": [
    "qc = QuantumCircuit(2)\n",
    "qc.cu(pi/2, pi/2, pi/2, 0, 0, 1)\n",
    "qc.draw('mpl')"
   ]
  },
  {
   "cell_type": "code",
   "execution_count": null,
   "id": "36533899",
   "metadata": {},
   "outputs": [],
   "source": [
    "job = backend.run(transpile(qc, backend))\n",
    "array_to_latex(job.result().get_unitary(qc, decimals=3), prefix='Output = ', max_size=24)"
   ]
  },
  {
   "cell_type": "markdown",
   "id": "e3fc755d",
   "metadata": {},
   "source": [
    "## Toffoli Gate (Three-qubit gates)"
   ]
  },
  {
   "cell_type": "code",
   "execution_count": 61,
   "id": "082716d5",
   "metadata": {},
   "outputs": [
    {
     "data": {
      "image/png": "[encoded data removed]",
      "text/plain": [
       "<Figure size 173.195x204.68 with 1 Axes>"
      ]
     },
     "execution_count": 61,
     "metadata": {},
     "output_type": "execute_result"
    }
   ],
   "source": [
    "q = QuantumRegister(3)\n",
    "qc = QuantumCircuit(q)\n",
    "qc.ccx(q[0], q[1], q[2])\n",
    "qc.draw('mpl')"
   ]
  },
  {
   "cell_type": "code",
   "execution_count": 62,
   "id": "35b2306b",
   "metadata": {},
   "outputs": [
    {
     "data": {
      "text/latex": [
       "$$\n",
       "Output = \n",
       "\\begin{bmatrix}\n",
       "1 & 0 & 0 & 0 & 0 & 0 & 0 & 0  \\\\\n",
       " 0 & 1 & 0 & 0 & 0 & 0 & 0 & 0  \\\\\n",
       " 0 & 0 & 1 & 0 & 0 & 0 & 0 & 0  \\\\\n",
       " 0 & 0 & 0 & 0 & 0 & 0 & 0 & 1  \\\\\n",
       " 0 & 0 & 0 & 0 & 1 & 0 & 0 & 0  \\\\\n",
       " 0 & 0 & 0 & 0 & 0 & 1 & 0 & 0  \\\\\n",
       " 0 & 0 & 0 & 0 & 0 & 0 & 1 & 0  \\\\\n",
       " 0 & 0 & 0 & 1 & 0 & 0 & 0 & 0  \\\\\n",
       " \\end{bmatrix}\n",
       "$$"
      ],
      "text/plain": [
       "<IPython.core.display.Latex object>"
      ]
     },
     "execution_count": 62,
     "metadata": {},
     "output_type": "execute_result"
    }
   ],
   "source": [
    "job = backend.run(transpile(qc, backend))\n",
    "array_to_latex(job.result().get_unitary(qc, decimals=3), prefix='Output = ', max_size=24)"
   ]
  },
  {
   "cell_type": "markdown",
   "id": "ce9105c9",
   "metadata": {},
   "source": [
    "## Measurements"
   ]
  },
  {
   "cell_type": "code",
   "execution_count": 63,
   "id": "3a778782",
   "metadata": {},
   "outputs": [
    {
     "data": {
      "image/png": "[encoded data removed]",
      "text/plain": [
       "<Figure size 172.759x144.48 with 1 Axes>"
      ]
     },
     "execution_count": 63,
     "metadata": {},
     "output_type": "execute_result"
    }
   ],
   "source": [
    "q = QuantumRegister(1)\n",
    "c = ClassicalRegister(1)\n",
    "qc = QuantumCircuit(q, c)\n",
    "qc.measure(q, c)\n",
    "qc.draw('mpl')"
   ]
  },
  {
   "cell_type": "code",
   "execution_count": 64,
   "id": "1348b06e",
   "metadata": {},
   "outputs": [
    {
     "data": {
      "text/plain": [
       "{'0': 1024}"
      ]
     },
     "execution_count": 64,
     "metadata": {},
     "output_type": "execute_result"
    }
   ],
   "source": [
    "backend = BasicAer.get_backend('qasm_simulator')\n",
    "job = backend.run(transpile(qc, backend))\n",
    "job.result().get_counts(qc)"
   ]
  },
  {
   "cell_type": "markdown",
   "id": "3e611af1",
   "metadata": {},
   "source": [
    "### Reset"
   ]
  },
  {
   "cell_type": "markdown",
   "id": "24563e4c",
   "metadata": {},
   "source": [
    "It is also possible to reset qubits to the |0> state in the middle of computation. Note that reset is not a Gate operation, since it is irreversible."
   ]
  },
  {
   "cell_type": "code",
   "execution_count": 65,
   "id": "23711c08",
   "metadata": {},
   "outputs": [
    {
     "data": {
      "image/png": "[encoded data removed]",
      "text/plain": [
       "<Figure size 293.159x144.48 with 1 Axes>"
      ]
     },
     "execution_count": 65,
     "metadata": {},
     "output_type": "execute_result"
    }
   ],
   "source": [
    "qc = QuantumCircuit(q, c)\n",
    "qc.h(0)\n",
    "qc.reset(q[0])\n",
    "qc.measure(q, c)\n",
    "qc.draw('mpl')"
   ]
  },
  {
   "cell_type": "code",
   "execution_count": 66,
   "id": "c261232c",
   "metadata": {},
   "outputs": [
    {
     "data": {
      "text/plain": [
       "{'0': 1024}"
      ]
     },
     "execution_count": 66,
     "metadata": {},
     "output_type": "execute_result"
    }
   ],
   "source": [
    "job = backend.run(transpile(qc, backend))\n",
    "job.result().get_counts(qc)"
   ]
  },
  {
   "cell_type": "markdown",
   "id": "6a08865d",
   "metadata": {},
   "source": [
    "### Conditional Operators"
   ]
  },
  {
   "cell_type": "markdown",
   "id": "ad79aa04",
   "metadata": {},
   "source": [
    "It is also possible to do operations conditioned on the state of the classical register"
   ]
  },
  {
   "cell_type": "code",
   "execution_count": 67,
   "id": "15a6822b",
   "metadata": {},
   "outputs": [
    {
     "data": {
      "image/png": "[encoded data removed]",
      "text/plain": [
       "<Figure size 353.359x144.48 with 1 Axes>"
      ]
     },
     "execution_count": 67,
     "metadata": {},
     "output_type": "execute_result"
    }
   ],
   "source": [
    "qc = QuantumCircuit(q, c)\n",
    "qc.h(q)\n",
    "qc.measure(q,c)\n",
    "qc.x(q[0]).c_if(c, 0)\n",
    "qc.measure(q,c)\n",
    "qc.draw('mpl')"
   ]
  },
  {
   "cell_type": "code",
   "execution_count": 68,
   "id": "89f4b711",
   "metadata": {},
   "outputs": [
    {
     "data": {
      "text/plain": [
       "{'1': 1024}"
      ]
     },
     "execution_count": 68,
     "metadata": {},
     "output_type": "execute_result"
    }
   ],
   "source": [
    "job = backend.run(transpile(qc, backend))\n",
    "job.result().get_counts(qc)"
   ]
  },
  {
   "cell_type": "markdown",
   "id": "d23dd020",
   "metadata": {},
   "source": [
    "## Unitary to Gate"
   ]
  },
  {
   "cell_type": "code",
   "execution_count": 82,
   "id": "d561adce",
   "metadata": {},
   "outputs": [],
   "source": [
    "qr=QuantumRegister(1)\n",
    "cr=ClassicalRegister(1)\n",
    "circuit=QuantumCircuit(qr,cr)"
   ]
  },
  {
   "cell_type": "code",
   "execution_count": 83,
   "id": "8e4155a0",
   "metadata": {},
   "outputs": [],
   "source": [
    "U= np.array([[0.707107,  0.707107], [0.707107, -0.707107]])"
   ]
  },
  {
   "cell_type": "code",
   "execution_count": 84,
   "id": "f6296745",
   "metadata": {},
   "outputs": [
    {
     "data": {
      "text/plain": [
       "<qiskit.circuit.instructionset.InstructionSet at 0x18e1f517dc0>"
      ]
     },
     "execution_count": 84,
     "metadata": {},
     "output_type": "execute_result"
    }
   ],
   "source": [
    "circuit.unitary(U, [0], label='Hadamard')"
   ]
  },
  {
   "cell_type": "code",
   "execution_count": 85,
   "id": "0245976f",
   "metadata": {},
   "outputs": [
    {
     "data": {
      "image/png": "[encoded data removed]",
      "text/plain": [
       "<Figure size 233.395x144.48 with 1 Axes>"
      ]
     },
     "execution_count": 85,
     "metadata": {},
     "output_type": "execute_result"
    }
   ],
   "source": [
    "circuit.draw('mpl')\n"
   ]
  },
  {
   "cell_type": "code",
   "execution_count": 86,
   "id": "81807ac9",
   "metadata": {},
   "outputs": [],
   "source": [
    "\n",
    "backend = BasicAer.get_backend('unitary_simulator')\n"
   ]
  },
  {
   "cell_type": "code",
   "execution_count": 87,
   "id": "a09c66ef",
   "metadata": {},
   "outputs": [
    {
     "data": {
      "text/latex": [
       "$$\n",
       "Output = \n",
       "\\begin{bmatrix}\n",
       "0.707 & 0.707  \\\\\n",
       " 0.707 & -0.707  \\\\\n",
       " \\end{bmatrix}\n",
       "$$"
      ],
      "text/plain": [
       "<IPython.core.display.Latex object>"
      ]
     },
     "execution_count": 87,
     "metadata": {},
     "output_type": "execute_result"
    }
   ],
   "source": [
    "job = backend.run(transpile(circuit, backend))\n",
    "array_to_latex(job.result().get_unitary(circuit, decimals=3), prefix='Output = ', max_size=24)"
   ]
  },
  {
   "cell_type": "code",
   "execution_count": 88,
   "id": "e468b5d5",
   "metadata": {},
   "outputs": [
    {
     "data": {
      "text/plain": [
       "{'1 0': 509, '0 0': 515}"
      ]
     },
     "execution_count": 88,
     "metadata": {},
     "output_type": "execute_result"
    }
   ],
   "source": [
    "circuit.measure_all()\n",
    "backend = Aer.get_backend('aer_simulator')\n",
    "job = backend.run(transpile(circuit, backend))\n",
    "job.result().get_counts(circuit)"
   ]
  },
  {
   "cell_type": "markdown",
   "id": "0226dfa2",
   "metadata": {},
   "source": [
    "## Qiskit Pluse Simulations"
   ]
  },
  {
   "cell_type": "code",
   "execution_count": 89,
   "id": "50bc16a7",
   "metadata": {},
   "outputs": [],
   "source": [
    "from qiskit import assemble, pulse\n",
    "from qiskit.pulse import Acquire, AcquireChannel, MemorySlot, ControlChannel, DriveChannel\n",
    "from qiskit.circuit import Gate\n",
    "from qiskit.providers.aer import PulseSimulator\n",
    "from qiskit.providers.aer.pulse import PulseSystemModel\n",
    "from qiskit.pulse.library import Gaussian\n",
    "from qiskit.test import mock\n",
    "from qiskit.visualization.pulse_v2 import draw\n",
    "from qiskit.extensions import *"
   ]
  },
  {
   "cell_type": "code",
   "execution_count": 90,
   "id": "46785472",
   "metadata": {},
   "outputs": [],
   "source": [
    "# hide pulsesimulator warning\n",
    "import warnings\n",
    "warnings.filterwarnings('ignore')\n"
   ]
  },
  {
   "cell_type": "code",
   "execution_count": 92,
   "id": "0ad4983f",
   "metadata": {},
   "outputs": [],
   "source": [
    "with pulse.build(backend, name='Custom') as gate_pulse:\n",
    "    # custom pulse for this demo\n",
    "    microwave = Gaussian(duration=310, amp=.36, sigma=80)\n",
    "    pulse.play(microwave, DriveChannel(0))\n"
   ]
  },
  {
   "cell_type": "code",
   "execution_count": 93,
   "id": "b6445e26",
   "metadata": {},
   "outputs": [
    {
     "data": {
      "image/png": "[encoded data removed]",
      "text/plain": [
       "<Figure size 936x118.8 with 1 Axes>"
      ]
     },
     "execution_count": 93,
     "metadata": {},
     "output_type": "execute_result"
    }
   ],
   "source": [
    "gate_pulse.draw()\n"
   ]
  },
  {
   "cell_type": "code",
   "execution_count": 94,
   "id": "b953994b",
   "metadata": {},
   "outputs": [],
   "source": [
    "gate = Gate(name='Custom', label='QG', num_qubits=1, params=[])"
   ]
  },
  {
   "cell_type": "code",
   "execution_count": 95,
   "id": "c10e7222",
   "metadata": {},
   "outputs": [
    {
     "data": {
      "text/plain": [
       "<qiskit.circuit.instructionset.InstructionSet at 0x18e1f737180>"
      ]
     },
     "execution_count": 95,
     "metadata": {},
     "output_type": "execute_result"
    }
   ],
   "source": [
    "qc = QuantumCircuit(1, 1)\n",
    "\n",
    "# append the custom gate\n",
    "qc.append(gate, [0])\n",
    "qc.measure(0, 0)"
   ]
  },
  {
   "cell_type": "code",
   "execution_count": 96,
   "id": "bcec3599",
   "metadata": {},
   "outputs": [],
   "source": [
    "qc.add_calibration('Custom', [0], gate_pulse)\n"
   ]
  },
  {
   "cell_type": "code",
   "execution_count": 97,
   "id": "81232d5e",
   "metadata": {},
   "outputs": [],
   "source": [
    "backend = mock.FakeArmonk()\n"
   ]
  },
  {
   "cell_type": "code",
   "execution_count": 98,
   "id": "a17bc45b",
   "metadata": {},
   "outputs": [
    {
     "data": {
      "image/png": "[encoded data removed]",
      "text/plain": [
       "<Figure size 936x241.987 with 1 Axes>"
      ]
     },
     "execution_count": 98,
     "metadata": {},
     "output_type": "execute_result"
    }
   ],
   "source": [
    "qc.draw(output='mpl')\n",
    "\n",
    "# unnecessary with calibrated gates\n",
    "qc_t = transpile(qc, backend)\n",
    "qc_pulse = schedule(qc_t, backend)\n",
    "draw(qc_pulse, backend=backend)"
   ]
  },
  {
   "cell_type": "code",
   "execution_count": 99,
   "id": "557e8942",
   "metadata": {},
   "outputs": [],
   "source": [
    "# create a pulse simulator and model\n",
    "backend_sim = PulseSimulator.from_backend(backend)\n",
    "backend_model = PulseSystemModel.from_backend(backend)"
   ]
  },
  {
   "cell_type": "code",
   "execution_count": 100,
   "id": "26a5c7b6",
   "metadata": {},
   "outputs": [],
   "source": [
    "# prepare the pulse job\n",
    "pulse_qobj = assemble(qc_pulse, backend=backend_sim)"
   ]
  },
  {
   "cell_type": "code",
   "execution_count": 101,
   "id": "16b592f1",
   "metadata": {},
   "outputs": [
    {
     "name": "stdout",
     "output_type": "stream",
     "text": [
      "{'0': 519, '1': 505}\n"
     ]
    }
   ],
   "source": [
    "sim_result = backend_sim.run(pulse_qobj, SystemModel=backend_model).result()\n",
    "print(sim_result.get_counts())\n",
    "# plot circuit output\n",
    "plot_histogram(sim_result.get_counts()).show()"
   ]
  },
  {
   "cell_type": "code",
   "execution_count": null,
   "id": "d2219873",
   "metadata": {},
   "outputs": [],
   "source": []
  }
 ],
 "metadata": {
  "kernelspec": {
   "display_name": "Python 3 (ipykernel)",
   "language": "python",
   "name": "python3"
  },
  "language_info": {
   "codemirror_mode": {
    "name": "ipython",
    "version": 3
   },
   "file_extension": ".py",
   "mimetype": "text/x-python",
   "name": "python",
   "nbconvert_exporter": "python",
   "pygments_lexer": "ipython3",
   "version": "3.9.12"
  }
 },
 "nbformat": 4,
 "nbformat_minor": 5
}
